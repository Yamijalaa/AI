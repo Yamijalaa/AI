{
  "nbformat": 4,
  "nbformat_minor": 0,
  "metadata": {
    "colab": {
      "provenance": []
    },
    "kernelspec": {
      "name": "python3",
      "display_name": "Python 3"
    },
    "language_info": {
      "name": "python"
    }
  },
  "cells": [
    {
      "cell_type": "markdown",
      "source": [
        "Importing Libraries"
      ],
      "metadata": {
        "id": "7QyUOJxkeVfN"
      }
    },
    {
      "cell_type": "code",
      "execution_count": 1,
      "metadata": {
        "id": "nY_qBNG2SWSr"
      },
      "outputs": [],
      "source": [
        "\n",
        "import tensorflow as tf\n",
        "from tensorflow.keras import datasets, layers, models\n",
        "import matplotlib.pyplot as plt\n",
        "from tensorflow.keras.layers import Dropout"
      ]
    },
    {
      "cell_type": "code",
      "source": [
        "(train_images, train_labels), (test_images, test_labels) = datasets.cifar10.load_data()\n",
        "\n",
        "#normalizing the pixel vlaues.\n",
        "train_images, test_images = train_images / 255.0, test_images / 255.0"
      ],
      "metadata": {
        "id": "NXsl_omBS4nQ"
      },
      "execution_count": 4,
      "outputs": []
    },
    {
      "cell_type": "markdown",
      "source": [
        "Define the CNN model architecture"
      ],
      "metadata": {
        "id": "fokOzNuJef2E"
      }
    },
    {
      "cell_type": "code",
      "source": [
        "\n",
        "model = models.Sequential()\n",
        "model.add(layers.Conv2D(32, (3, 3), activation = 'relu', input_shape = (32, 32, 3)))\n",
        "model.add(layers.MaxPooling2D((2, 2)))\n",
        "model.add(layers.Conv2D(64, (3, 3), activation = 'relu'))\n",
        "model.add(layers.MaxPooling2D ((2, 2)))\n",
        "model.add(layers.Conv2D(64, (3, 3), activation = 'relu'))\n",
        "model.add(layers.Flatten())\n",
        "model.add(layers.Dense(64, activation = 'relu'))\n",
        "model.add(layers.Dense(10))\n"
      ],
      "metadata": {
        "id": "H0yJCVIBUCln"
      },
      "execution_count": 8,
      "outputs": []
    },
    {
      "cell_type": "markdown",
      "source": [
        "Compile the model"
      ],
      "metadata": {
        "id": "6LyHaflEenCX"
      }
    },
    {
      "cell_type": "code",
      "source": [
        "\n",
        "model.compile(optimizer = 'adam',\n",
        "              loss = tf.keras.losses.SparseCategoricalCrossentropy(from_logits=True),\n",
        "              metrics = ['accuracy'])"
      ],
      "metadata": {
        "id": "4tcuZvA9Y5K6"
      },
      "execution_count": 9,
      "outputs": []
    },
    {
      "cell_type": "markdown",
      "source": [
        "Train the model"
      ],
      "metadata": {
        "id": "UQpTsoIpetEw"
      }
    },
    {
      "cell_type": "code",
      "source": [
        "#Train the model\n",
        "history = model.fit(train_images, train_labels, epochs = 10,\n",
        "                    validation_data = (test_images, test_labels))"
      ],
      "metadata": {
        "colab": {
          "base_uri": "https://localhost:8080/"
        },
        "id": "sOJGFwlpZfkn",
        "outputId": "c1bc9d99-4745-4091-d232-698e6b1c9e32"
      },
      "execution_count": 10,
      "outputs": [
        {
          "output_type": "stream",
          "name": "stdout",
          "text": [
            "Epoch 1/10\n",
            "1563/1563 [==============================] - 91s 57ms/step - loss: 1.5123 - accuracy: 0.4490 - val_loss: 1.2868 - val_accuracy: 0.5504\n",
            "Epoch 2/10\n",
            "1563/1563 [==============================] - 86s 55ms/step - loss: 1.1551 - accuracy: 0.5926 - val_loss: 1.0912 - val_accuracy: 0.6199\n",
            "Epoch 3/10\n",
            "1563/1563 [==============================] - 88s 56ms/step - loss: 1.0007 - accuracy: 0.6499 - val_loss: 0.9980 - val_accuracy: 0.6510\n",
            "Epoch 4/10\n",
            "1563/1563 [==============================] - 87s 55ms/step - loss: 0.8985 - accuracy: 0.6853 - val_loss: 0.9080 - val_accuracy: 0.6806\n",
            "Epoch 5/10\n",
            "1563/1563 [==============================] - 84s 53ms/step - loss: 0.8273 - accuracy: 0.7067 - val_loss: 0.9136 - val_accuracy: 0.6796\n",
            "Epoch 6/10\n",
            "1563/1563 [==============================] - 84s 54ms/step - loss: 0.7714 - accuracy: 0.7290 - val_loss: 0.8976 - val_accuracy: 0.6895\n",
            "Epoch 7/10\n",
            "1563/1563 [==============================] - 86s 55ms/step - loss: 0.7174 - accuracy: 0.7484 - val_loss: 0.8591 - val_accuracy: 0.7066\n",
            "Epoch 8/10\n",
            "1563/1563 [==============================] - 85s 54ms/step - loss: 0.6828 - accuracy: 0.7603 - val_loss: 0.8354 - val_accuracy: 0.7127\n",
            "Epoch 9/10\n",
            "1563/1563 [==============================] - 85s 55ms/step - loss: 0.6347 - accuracy: 0.7758 - val_loss: 0.8950 - val_accuracy: 0.6988\n",
            "Epoch 10/10\n",
            "1563/1563 [==============================] - 85s 54ms/step - loss: 0.5991 - accuracy: 0.7881 - val_loss: 0.8865 - val_accuracy: 0.7069\n"
          ]
        }
      ]
    },
    {
      "cell_type": "markdown",
      "source": [
        "Evaluate the model on the test set"
      ],
      "metadata": {
        "id": "vDeLxgx8ex3n"
      }
    },
    {
      "cell_type": "code",
      "source": [
        "#Evaluate the model on the test set\n",
        "test_loss, test_acc = model.evaluate(test_images, test_labels, verbose = 2)\n",
        "print(f\"Test accuracy: {test_acc}\")"
      ],
      "metadata": {
        "colab": {
          "base_uri": "https://localhost:8080/"
        },
        "id": "SDkjEkTJdpDD",
        "outputId": "12c881ef-0fb1-417b-9645-19bbc04beba1"
      },
      "execution_count": 12,
      "outputs": [
        {
          "output_type": "stream",
          "name": "stdout",
          "text": [
            "313/313 - 4s - loss: 0.8865 - accuracy: 0.7069 - 4s/epoch - 13ms/step\n",
            "Test accuracy: 0.7069000005722046\n"
          ]
        }
      ]
    }
  ]
}